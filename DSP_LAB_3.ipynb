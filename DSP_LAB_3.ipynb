{
  "nbformat": 4,
  "nbformat_minor": 0,
  "metadata": {
    "colab": {
      "provenance": [],
      "authorship_tag": "ABX9TyP8Sa5gpikPaqqi6Zlaino8",
      "include_colab_link": true
    },
    "kernelspec": {
      "name": "python3",
      "display_name": "Python 3"
    },
    "language_info": {
      "name": "python"
    }
  },
  "cells": [
    {
      "cell_type": "markdown",
      "metadata": {
        "id": "view-in-github",
        "colab_type": "text"
      },
      "source": [
        "<a href=\"https://colab.research.google.com/github/karthiqak47/DSP_Learning/blob/main/DSP_LAB_3.ipynb\" target=\"_parent\"><img src=\"https://colab.research.google.com/assets/colab-badge.svg\" alt=\"Open In Colab\"/></a>"
      ]
    },
    {
      "cell_type": "markdown",
      "source": [
        "# 1.Import sample audio"
      ],
      "metadata": {
        "id": "jA9UhDlZBwcl"
      }
    },
    {
      "cell_type": "markdown",
      "source": [
        "# 2. Plot Autocorrelation"
      ],
      "metadata": {
        "id": "025X2VV6B5EB"
      }
    },
    {
      "cell_type": "markdown",
      "source": [
        "# 3.Second Peak of autocorrelation"
      ],
      "metadata": {
        "id": "Gc19w5CoDXc2"
      }
    },
    {
      "cell_type": "markdown",
      "source": [
        "# 4.Estimated Attenuation"
      ],
      "metadata": {
        "id": "bF0umVtODl8E"
      }
    },
    {
      "cell_type": "code",
      "source": [
        "%%writefile c_program15.c\n",
        "#include <stdio.h>\n",
        "#include <math.h>\n",
        "\n",
        "#define N 8\n",
        "#define PI 3.141592653589793\n",
        "\n",
        "typedef struct {\n",
        "    double re;\n",
        "    double im;\n",
        "} Complex;\n",
        "\n",
        "\n",
        "void printArray(Complex *x, int n, const char *msg) {\n",
        "    printf(\"\\n%s\\n\", msg);\n",
        "    for (int i = 0; i < n; i++) {\n",
        "        if (fabs(x[i].im) < 1e-29)\n",
        "            x[i].im = 0;\n",
        "        printf(\"X[%d] = %8.4f + j%8.4f\\n\", i, x[i].re, x[i].im);\n",
        "    }\n",
        "}\n",
        "\n",
        "\n",
        "unsigned int reverseBits(unsigned int num, int log2n) {\n",
        "    unsigned int result = 0;\n",
        "    for (int i = 0; i < log2n; i++) {\n",
        "        if (num & (1 << i))\n",
        "            result |= 1 << ((log2n - 1) - i);\n",
        "    }\n",
        "    return result;\n",
        "}\n",
        "\n",
        "\n",
        "void bitReverse(Complex *x, int n) {\n",
        "    int log2n = (int)(log(n) / log(2));\n",
        "    for (unsigned int i = 0; i < n; i++) {\n",
        "        unsigned int j = reverseBits(i, log2n);\n",
        "        if (i < j) {\n",
        "            Complex temp = x[i];\n",
        "            x[i] = x[j];\n",
        "            x[j] = temp;\n",
        "        }\n",
        "    }\n",
        "}\n",
        "\n",
        "\n",
        "void fftdit(Complex *x, int n, int op) {\n",
        "    int log2n, half,stride,b,j, m;\n",
        "    int s;\n",
        "    Complex wn[N / 2];\n",
        "    printArray(x, n, \"I/p\");\n",
        "    bitReverse(x,n);\n",
        "    printArray(x, n, \"after bit reverse\");\n",
        "    log2n=(int)(log(n)/log(2));\n",
        "\n",
        "\n",
        "\n",
        "    for (s = 0; s < log2n; s++) {\n",
        "        m = pow(2, s + 1);\n",
        "        half = m / 2.0;\n",
        "        stride = N / m;\n",
        "\n",
        "        printf(\"Stage %i -> m = %i,\\thalf = %i,\\tstride = %i\\n\", s, m, half, stride);\n",
        "\n",
        "        for (j = 0; j < half; j++) {\n",
        "\n",
        "            if (op == 1) {\n",
        "                wn[j].im = sin(2 * PI/N * j * stride);\n",
        "                wn[j].re = cos(2 * PI/N * j * stride);\n",
        "            } else {\n",
        "                wn[j].im = (double)-sin(2 * PI/N * j * stride);\n",
        "                wn[j].re = (double)cos(2 * PI/N * j * stride);\n",
        "            }\n",
        "\n",
        "        }\n",
        "\n",
        "        for (b = 0; b < N; b += m) {\n",
        "            for (j = 0; j < half; j++) {\n",
        "                // (j + b)\n",
        "                // (j + b + half)\n",
        "                // printf(\"(%f,\\t%f)\\n\", x[j + b].re, x[j + b + half].re);\n",
        "\n",
        "                Complex t = {\n",
        "                    wn[j].re * x[j + b + half].re - wn[j].im * x[j + b + half].im,\n",
        "                    wn[j].re * x[j + b + half].im + wn[j].im * x[j + b + half].re\n",
        "                };\n",
        "\n",
        "\n",
        "                x[j + b + half].re = x[j + b].re - t.re;\n",
        "                x[j + b + half].im = x[j + b].im - t.im;\n",
        "\n",
        "                x[j + b].re += t.re;\n",
        "                x[j + b].im += t.im;\n",
        "\n",
        "                printf(\"(%i,\\t%i) + (%f,%f) -> (%f + j%f | %f + j%f)\\n\", j + b, j + b + half, wn[j].re, wn[j].im, x[j + b].re, x[j + b].im, x[j + b + half].re, x[j + b + half].im);\n",
        "            }\n",
        "        }\n",
        "\n",
        "        printArray(x, n, \"stage output\");\n",
        "    }\n",
        "}\n",
        "\n",
        "void main() {\n",
        "    Complex x[N] = {\n",
        "        { 1, 1 },\n",
        "        { 2, -1 },\n",
        "        { -1, 2 },\n",
        "        { 0, -3 },\n",
        "        { 3, 0 },\n",
        "        { -2, 1 },\n",
        "        { 1, -2 },\n",
        "        { -1, 0 }\n",
        "    };\n",
        "\n",
        "\n",
        "  // fftdit(x, N, 0); // fft\n",
        "  fftdit(x, N, 0); // ifft\n",
        "  fftdit(x, N, 1); // ifft\n",
        "}"
      ],
      "metadata": {
        "colab": {
          "base_uri": "https://localhost:8080/"
        },
        "id": "uNBDWX2o7Y3W",
        "outputId": "cd1a0037-0338-44f0-c31e-308165e9ea3d"
      },
      "execution_count": 1,
      "outputs": [
        {
          "output_type": "stream",
          "name": "stdout",
          "text": [
            "Writing c_program15.c\n"
          ]
        }
      ]
    },
    {
      "cell_type": "code",
      "source": [
        "%%shell\n",
        "gcc c_program15.c -o c_program -lm\n",
        "./c_program"
      ],
      "metadata": {
        "colab": {
          "base_uri": "https://localhost:8080/"
        },
        "id": "Cgob70Yz7otu",
        "outputId": "51824fe3-3a49-4a29-ed4b-42449cd91e8e"
      },
      "execution_count": 2,
      "outputs": [
        {
          "output_type": "stream",
          "name": "stdout",
          "text": [
            "\n",
            "I/p\n",
            "X[0] =   1.0000 + j  1.0000\n",
            "X[1] =   2.0000 + j -1.0000\n",
            "X[2] =  -1.0000 + j  2.0000\n",
            "X[3] =   0.0000 + j -3.0000\n",
            "X[4] =   3.0000 + j  0.0000\n",
            "X[5] =  -2.0000 + j  1.0000\n",
            "X[6] =   1.0000 + j -2.0000\n",
            "X[7] =  -1.0000 + j  0.0000\n",
            "\n",
            "after bit reverse\n",
            "X[0] =   1.0000 + j  1.0000\n",
            "X[1] =   3.0000 + j  0.0000\n",
            "X[2] =  -1.0000 + j  2.0000\n",
            "X[3] =   1.0000 + j -2.0000\n",
            "X[4] =   2.0000 + j -1.0000\n",
            "X[5] =  -2.0000 + j  1.0000\n",
            "X[6] =   0.0000 + j -3.0000\n",
            "X[7] =  -1.0000 + j  0.0000\n",
            "Stage 0 -> m = 2,\thalf = 1,\tstride = 4\n",
            "(0,\t1) + (1.000000,-0.000000) -> (4.000000 + j1.000000 | -2.000000 + j1.000000)\n",
            "(2,\t3) + (1.000000,-0.000000) -> (0.000000 + j0.000000 | -2.000000 + j4.000000)\n",
            "(4,\t5) + (1.000000,-0.000000) -> (0.000000 + j0.000000 | 4.000000 + j-2.000000)\n",
            "(6,\t7) + (1.000000,-0.000000) -> (-1.000000 + j-3.000000 | 1.000000 + j-3.000000)\n",
            "\n",
            "stage output\n",
            "X[0] =   4.0000 + j  1.0000\n",
            "X[1] =  -2.0000 + j  1.0000\n",
            "X[2] =   0.0000 + j  0.0000\n",
            "X[3] =  -2.0000 + j  4.0000\n",
            "X[4] =   0.0000 + j  0.0000\n",
            "X[5] =   4.0000 + j -2.0000\n",
            "X[6] =  -1.0000 + j -3.0000\n",
            "X[7] =   1.0000 + j -3.0000\n",
            "Stage 1 -> m = 4,\thalf = 2,\tstride = 2\n",
            "(0,\t2) + (1.000000,-0.000000) -> (4.000000 + j1.000000 | 4.000000 + j1.000000)\n",
            "(1,\t3) + (0.000000,-1.000000) -> (2.000000 + j3.000000 | -6.000000 + j-1.000000)\n",
            "(4,\t6) + (1.000000,-0.000000) -> (-1.000000 + j-3.000000 | 1.000000 + j3.000000)\n",
            "(5,\t7) + (0.000000,-1.000000) -> (1.000000 + j-3.000000 | 7.000000 + j-1.000000)\n",
            "\n",
            "stage output\n",
            "X[0] =   4.0000 + j  1.0000\n",
            "X[1] =   2.0000 + j  3.0000\n",
            "X[2] =   4.0000 + j  1.0000\n",
            "X[3] =  -6.0000 + j -1.0000\n",
            "X[4] =  -1.0000 + j -3.0000\n",
            "X[5] =   1.0000 + j -3.0000\n",
            "X[6] =   1.0000 + j  3.0000\n",
            "X[7] =   7.0000 + j -1.0000\n",
            "Stage 2 -> m = 8,\thalf = 4,\tstride = 1\n",
            "(0,\t4) + (1.000000,-0.000000) -> (3.000000 + j-2.000000 | 5.000000 + j4.000000)\n",
            "(1,\t5) + (0.707107,-0.707107) -> (0.585786 + j0.171573 | 3.414214 + j5.828427)\n",
            "(2,\t6) + (0.000000,-1.000000) -> (7.000000 + j0.000000 | 1.000000 + j2.000000)\n",
            "(3,\t7) + (-0.707107,-0.707107) -> (-11.656854 + j-5.242641 | -0.343146 + j3.242641)\n",
            "\n",
            "stage output\n",
            "X[0] =   3.0000 + j -2.0000\n",
            "X[1] =   0.5858 + j  0.1716\n",
            "X[2] =   7.0000 + j  0.0000\n",
            "X[3] = -11.6569 + j -5.2426\n",
            "X[4] =   5.0000 + j  4.0000\n",
            "X[5] =   3.4142 + j  5.8284\n",
            "X[6] =   1.0000 + j  2.0000\n",
            "X[7] =  -0.3431 + j  3.2426\n",
            "\n",
            "I/p\n",
            "X[0] =   3.0000 + j -2.0000\n",
            "X[1] =   0.5858 + j  0.1716\n",
            "X[2] =   7.0000 + j  0.0000\n",
            "X[3] = -11.6569 + j -5.2426\n",
            "X[4] =   5.0000 + j  4.0000\n",
            "X[5] =   3.4142 + j  5.8284\n",
            "X[6] =   1.0000 + j  2.0000\n",
            "X[7] =  -0.3431 + j  3.2426\n",
            "\n",
            "after bit reverse\n",
            "X[0] =   3.0000 + j -2.0000\n",
            "X[1] =   5.0000 + j  4.0000\n",
            "X[2] =   7.0000 + j  0.0000\n",
            "X[3] =   1.0000 + j  2.0000\n",
            "X[4] =   0.5858 + j  0.1716\n",
            "X[5] =   3.4142 + j  5.8284\n",
            "X[6] = -11.6569 + j -5.2426\n",
            "X[7] =  -0.3431 + j  3.2426\n",
            "Stage 0 -> m = 2,\thalf = 1,\tstride = 4\n",
            "(0,\t1) + (1.000000,0.000000) -> (8.000000 + j2.000000 | -2.000000 + j-6.000000)\n",
            "(2,\t3) + (1.000000,0.000000) -> (8.000000 + j2.000000 | 6.000000 + j-2.000000)\n",
            "(4,\t5) + (1.000000,0.000000) -> (4.000000 + j6.000000 | -2.828427 + j-5.656854)\n",
            "(6,\t7) + (1.000000,0.000000) -> (-12.000000 + j-2.000000 | -11.313708 + j-8.485281)\n",
            "\n",
            "stage output\n",
            "X[0] =   8.0000 + j  2.0000\n",
            "X[1] =  -2.0000 + j -6.0000\n",
            "X[2] =   8.0000 + j  2.0000\n",
            "X[3] =   6.0000 + j -2.0000\n",
            "X[4] =   4.0000 + j  6.0000\n",
            "X[5] =  -2.8284 + j -5.6569\n",
            "X[6] = -12.0000 + j -2.0000\n",
            "X[7] = -11.3137 + j -8.4853\n",
            "Stage 1 -> m = 4,\thalf = 2,\tstride = 2\n",
            "(0,\t2) + (1.000000,0.000000) -> (16.000000 + j4.000000 | 0.000000 + j0.000000)\n",
            "(1,\t3) + (0.000000,1.000000) -> (0.000000 + j0.000000 | -4.000000 + j-12.000000)\n",
            "(4,\t6) + (1.000000,0.000000) -> (-8.000000 + j4.000000 | 16.000000 + j8.000000)\n",
            "(5,\t7) + (0.000000,1.000000) -> (5.656854 + j-16.970563 | -11.313708 + j5.656854)\n",
            "\n",
            "stage output\n",
            "X[0] =  16.0000 + j  4.0000\n",
            "X[1] =   0.0000 + j  0.0000\n",
            "X[2] =   0.0000 + j  0.0000\n",
            "X[3] =  -4.0000 + j-12.0000\n",
            "X[4] =  -8.0000 + j  4.0000\n",
            "X[5] =   5.6569 + j-16.9706\n",
            "X[6] =  16.0000 + j  8.0000\n",
            "X[7] = -11.3137 + j  5.6569\n",
            "Stage 2 -> m = 8,\thalf = 4,\tstride = 1\n",
            "(0,\t4) + (1.000000,0.000000) -> (8.000000 + j8.000000 | 24.000000 + j0.000000)\n",
            "(1,\t5) + (0.707107,0.707107) -> (16.000000 + j-8.000000 | -16.000000 + j8.000000)\n",
            "(2,\t6) + (0.000000,1.000000) -> (-8.000000 + j16.000000 | 8.000000 + j-16.000000)\n",
            "(3,\t7) + (-0.707107,0.707107) -> (0.000000 + j-24.000000 | -8.000000 + j0.000000)\n",
            "\n",
            "stage output\n",
            "X[0] =   8.0000 + j  8.0000\n",
            "X[1] =  16.0000 + j -8.0000\n",
            "X[2] =  -8.0000 + j 16.0000\n",
            "X[3] =   0.0000 + j-24.0000\n",
            "X[4] =  24.0000 + j  0.0000\n",
            "X[5] = -16.0000 + j  8.0000\n",
            "X[6] =   8.0000 + j-16.0000\n",
            "X[7] =  -8.0000 + j  0.0000\n"
          ]
        },
        {
          "output_type": "execute_result",
          "data": {
            "text/plain": []
          },
          "metadata": {},
          "execution_count": 2
        }
      ]
    }
  ]
}